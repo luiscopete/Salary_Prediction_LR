{
 "cells": [
  {
   "cell_type": "code",
   "execution_count": 75,
   "metadata": {},
   "outputs": [],
   "source": [
    "import pandas as pd\n",
    "import numpy as np\n",
    "import matplotlib.pyplot as plt"
   ]
  },
  {
   "attachments": {},
   "cell_type": "markdown",
   "metadata": {},
   "source": [
    "### Load dataset"
   ]
  },
  {
   "cell_type": "code",
   "execution_count": 76,
   "metadata": {},
   "outputs": [
    {
     "name": "stdout",
     "output_type": "stream",
     "text": [
      "    Age  Gender Education Level          Job Title  Years of Experience  \\\n",
      "0  32.0    Male      Bachelor's  Software Engineer                  5.0   \n",
      "1  28.0  Female        Master's       Data Analyst                  3.0   \n",
      "2  45.0    Male             PhD     Senior Manager                 15.0   \n",
      "3  36.0  Female      Bachelor's    Sales Associate                  7.0   \n",
      "4  52.0    Male        Master's           Director                 20.0   \n",
      "\n",
      "     Salary  \n",
      "0   90000.0  \n",
      "1   65000.0  \n",
      "2  150000.0  \n",
      "3   60000.0  \n",
      "4  200000.0  \n",
      "The dataset has 6704 rows\n"
     ]
    }
   ],
   "source": [
    "df = pd.read_csv('Salary_Data.csv')\n",
    "df_salary = df.copy()\n",
    "print(df_salary.head())\n",
    "print(f'The dataset has {df_salary.shape[0]} rows')"
   ]
  },
  {
   "cell_type": "code",
   "execution_count": 77,
   "metadata": {},
   "outputs": [
    {
     "name": "stdout",
     "output_type": "stream",
     "text": [
      "    age  gender education_level          job_title  experience_years    salary\n",
      "0  32.0    Male      Bachelor's  Software Engineer               5.0   90000.0\n",
      "1  28.0  Female        Master's       Data Analyst               3.0   65000.0\n",
      "2  45.0    Male             PhD     Senior Manager              15.0  150000.0\n",
      "3  36.0  Female      Bachelor's    Sales Associate               7.0   60000.0\n",
      "4  52.0    Male        Master's           Director              20.0  200000.0\n"
     ]
    }
   ],
   "source": [
    "#Rename columns\n",
    "\n",
    "names = {'Age':'age', 'Gender':'gender', 'Education Level':'education_level',\n",
    "         'Job Title':'job_title', 'Years of Experience':'experience_years', 'Salary':'salary'}\n",
    "\n",
    "df_salary.rename(columns=names, inplace=True)\n",
    "print(df_salary.head())\n",
    "\n"
   ]
  },
  {
   "cell_type": "code",
   "execution_count": 78,
   "metadata": {},
   "outputs": [
    {
     "name": "stdout",
     "output_type": "stream",
     "text": [
      "      age  gender education_level          job_title  experience_years  \\\n",
      "0    32.0    Male      Bachelor's  Software Engineer               5.0   \n",
      "1    28.0  Female        Master's       Data Analyst               3.0   \n",
      "32   29.0    Male        Master's     Data Scientist               3.0   \n",
      "81   41.0  Female        Master's       Data Analyst              13.0   \n",
      "375  31.0    Male        Master's     Data Scientist               6.0   \n",
      "\n",
      "       salary  \n",
      "0     90000.0  \n",
      "1     65000.0  \n",
      "32    75000.0  \n",
      "81    80000.0  \n",
      "375  160000.0  \n",
      "The dataset has 2028 rows\n"
     ]
    }
   ],
   "source": [
    "# get top 5 jobs by count\n",
    "top_jobs = df_salary['job_title'].value_counts()\n",
    "top_jobs =  top_jobs.head(5).index.to_list()\n",
    "\n",
    "# filter dataset\n",
    "df_salary = df_salary[df_salary['job_title'].isin(top_jobs)]\n",
    "\n",
    "print(df_salary.head())\n",
    "print(f'The dataset has {df_salary.shape[0]} rows')\n"
   ]
  },
  {
   "cell_type": "code",
   "execution_count": null,
   "metadata": {},
   "outputs": [],
   "source": []
  }
 ],
 "metadata": {
  "kernelspec": {
   "display_name": "analytics",
   "language": "python",
   "name": "python3"
  },
  "language_info": {
   "codemirror_mode": {
    "name": "ipython",
    "version": 3
   },
   "file_extension": ".py",
   "mimetype": "text/x-python",
   "name": "python",
   "nbconvert_exporter": "python",
   "pygments_lexer": "ipython3",
   "version": "3.10.11"
  },
  "orig_nbformat": 4
 },
 "nbformat": 4,
 "nbformat_minor": 2
}
